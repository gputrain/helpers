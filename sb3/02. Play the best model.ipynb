{
 "cells": [
  {
   "cell_type": "markdown",
   "id": "37207e5a",
   "metadata": {},
   "source": [
    "# Running a Pre-trained PPO Model for 10 Episodes in a Given Environment\n",
    "\n"
   ]
  },
  {
   "cell_type": "code",
   "execution_count": 1,
   "id": "288a0532",
   "metadata": {},
   "outputs": [],
   "source": [
    "import gymnasium as gym\n",
    "from stable_baselines3 import PPO"
   ]
  },
  {
   "cell_type": "markdown",
   "id": "6d7875e4",
   "metadata": {},
   "source": [
    "A. **Initialization**: The code starts by specifying the directory where the pre-trained Proximal Policy Optimization (PPO) model is stored. It then loads this model into the `model` variable, setting the environment as `env`.\n",
    "\n",
    "    ```python\n",
    "    models_dir = 'models/PPO'\n",
    "    models_path = f\"{models_dir}/280000.zip\"\n",
    "    model = PPO.load(models_path, env=env)\n",
    "    ```"
   ]
  },
  {
   "cell_type": "code",
   "execution_count": 6,
   "id": "89b6747d",
   "metadata": {},
   "outputs": [
    {
     "name": "stdout",
     "output_type": "stream",
     "text": [
      "Wrapping the env with a `Monitor` wrapper\n",
      "Wrapping the env in a DummyVecEnv.\n"
     ]
    }
   ],
   "source": [
    "env =gym.make('LunarLander-v2',render_mode='human')\n",
    "env.reset()\n",
    "\n",
    "models_dir = 'models/PPO'\n",
    "models_path = f\"{models_dir}/4990000.zip\"\n",
    "\n",
    "model = PPO.load(models_path,env=env)\n"
   ]
  },
  {
   "cell_type": "markdown",
   "id": "4d8ccc75",
   "metadata": {},
   "source": [
    "2. **Episode Loop**: The code runs the model for 10 episodes. Each episode is a single run of the environment from start to termination.\n",
    "\n",
    "    ```python\n",
    "    episodes = 10\n",
    "    ```"
   ]
  },
  {
   "cell_type": "code",
   "execution_count": 7,
   "id": "a9c63180",
   "metadata": {},
   "outputs": [],
   "source": [
    "episodes=10"
   ]
  },
  {
   "cell_type": "markdown",
   "id": "411e540a",
   "metadata": {},
   "source": [
    "3. **Environment Interaction**: Within each episode, the code performs the following steps until the episode is done:\n",
    "\n",
    "    - **Reset Environment**: The environment is reset to an initial state, and the observation is extracted.\n",
    "    - **Rendering**: The current state of the environment is visualized using `env.render()`.\n",
    "    - **Action Prediction**: An action is predicted based on the current observation using the PPO model.\n",
    "    - **Step**: The environment is updated by taking the predicted action. New observation, reward, and termination status (`done`) are obtained.\n",
    "  \n",
    "    ```python\n",
    "    for ep in range(episodes):\n",
    "        obs = env.reset()\n",
    "        obs = obs[0]\n",
    "        done = False\n",
    "        while not done:\n",
    "            env.render()\n",
    "            action, _ = model.predict(obs)\n",
    "            obs, reward, done, info, _ = env.step(action)\n",
    "    ```"
   ]
  },
  {
   "cell_type": "code",
   "execution_count": 8,
   "id": "ca25ccb2",
   "metadata": {},
   "outputs": [],
   "source": [
    "episodes = 10\n",
    "\n",
    "for ep in range(episodes):\n",
    "    obs = env.reset()\n",
    "    obs = obs[0]\n",
    "    done = False\n",
    "    step_count = 0  # Initialize step counter for each episode\n",
    "    \n",
    "    while not done:\n",
    "        env.render()\n",
    "        action, _ = model.predict(obs)\n",
    "        obs, reward, done, info, _ = env.step(action)\n",
    "        \n",
    "        step_count += 1  # Increment step counter\n",
    "        \n",
    "        if step_count >= 250:  # Check if step limit is reached\n",
    "            print(\"Episode failed to reach a terminal state within 250 steps.\")\n",
    "            break  # Exit the inner loop\n",
    "\n",
    "env.close()\n"
   ]
  },
  {
   "cell_type": "code",
   "execution_count": null,
   "id": "6a8ec7ef",
   "metadata": {},
   "outputs": [],
   "source": []
  }
 ],
 "metadata": {
  "kernelspec": {
   "display_name": "pytorch",
   "language": "python",
   "name": "pytorch"
  },
  "language_info": {
   "codemirror_mode": {
    "name": "ipython",
    "version": 3
   },
   "file_extension": ".py",
   "mimetype": "text/x-python",
   "name": "python",
   "nbconvert_exporter": "python",
   "pygments_lexer": "ipython3",
   "version": "3.9.17"
  }
 },
 "nbformat": 4,
 "nbformat_minor": 5
}
