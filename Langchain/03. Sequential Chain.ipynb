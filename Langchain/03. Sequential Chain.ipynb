{
 "cells": [
  {
   "cell_type": "markdown",
   "id": "e84a163b",
   "metadata": {},
   "source": [
    "### Project Summary\n",
    "\n",
    "**Objective:**\n",
    "The project aims to create a sequential chain of language models that process employee performance reviews. The chain consists of three stages, each with a specific focus: summarizing the review, identifying weaknesses, and creating a personalized plan to address those weaknesses.\n",
    "\n",
    "**Components:**\n",
    "\n",
    "1. **Summary of Performance Review (Chain 1):**\n",
    "   - **Template:** \"Give a summary of this employee's performance review:\\n{review}\"\n",
    "   - **Functionality:** This stage takes an employee's performance review as input and generates a concise summary.\n",
    "   - **Output Key:** \"review_summary\"\n",
    "\n",
    "2. **Identifying Key Weaknesses (Chain 2):**\n",
    "   - **Template:** \"As a human resource representative identify key employee weaknesses in this review summary:\\n{review_summary}\"\n",
    "   - **Functionality:** This stage takes the summary from Chain 1 and identifies key weaknesses in the employee's performance.\n",
    "   - **Output Key:** \"weaknesses\"\n",
    "\n",
    "3. **Creating a Personalized Plan (Chain 3):**\n",
    "   - **Template:** \"Brainstorm as the employee's leader and with the help of the human resource representative to create a personalized plan to help address and fix these weaknesses:\\n{weaknesses}\"\n",
    "   - **Functionality:** This stage takes the identified weaknesses from Chain 2 and brainstorms a personalized plan to address and fix these weaknesses.\n",
    "   - **Output Key:** \"final_plan\"\n",
    "\n",
    "**Sequential Chain:**\n",
    "The SequentialChain object combines the three chains, ensuring that the output of one chain becomes the input to the next. The input variable is 'review', and the output variables are 'review_summary', 'weaknesses', and 'final_plan'. Verbose mode is enabled for detailed logging.\n",
    "\n",
    "### Conclusion:\n",
    "This project represents a comprehensive approach to employee performance management. By leveraging a sequential chain of language models, it automates the process of summarizing reviews, identifying weaknesses, and creating personalized development plans. The modular design allows for flexibility and adaptability, aligning well with the principles of collaboration, innovation, and communication."
   ]
  },
  {
   "cell_type": "code",
   "execution_count": 1,
   "id": "e4f0300b",
   "metadata": {},
   "outputs": [
    {
     "data": {
      "text/plain": [
       "True"
      ]
     },
     "execution_count": 1,
     "metadata": {},
     "output_type": "execute_result"
    }
   ],
   "source": [
    "from dotenv import load_dotenv,find_dotenv\n",
    "load_dotenv(find_dotenv())"
   ]
  },
  {
   "cell_type": "code",
   "execution_count": 2,
   "id": "f629107e",
   "metadata": {},
   "outputs": [],
   "source": [
    "from langchain.chat_models import ChatOpenAI\n",
    "from langchain.prompts import ChatPromptTemplate\n",
    "from langchain.chains import SequentialChain, LLMChain"
   ]
  },
  {
   "cell_type": "code",
   "execution_count": 3,
   "id": "8970c868",
   "metadata": {},
   "outputs": [],
   "source": [
    "llm = ChatOpenAI()"
   ]
  },
  {
   "cell_type": "code",
   "execution_count": 13,
   "id": "9598f161",
   "metadata": {},
   "outputs": [],
   "source": [
    "template1 = \"Give a summary of this employee's performance review:\\n{review}\"\n",
    "prompt1 = ChatPromptTemplate.from_template(template1)\n",
    "chain_1 = LLMChain(llm=llm,\n",
    "                     prompt=prompt1,\n",
    "                     output_key=\"review_summary\")"
   ]
  },
  {
   "cell_type": "code",
   "execution_count": 14,
   "id": "f2e444b2",
   "metadata": {},
   "outputs": [],
   "source": [
    "template2 = \"As a human resource representative identify key employee weaknesses in this review summary:\\n{review_summary}\"\n",
    "prompt2 = ChatPromptTemplate.from_template(template2)\n",
    "chain_2 = LLMChain(llm=llm,\n",
    "                     prompt=prompt2,\n",
    "                     output_key=\"weaknesses\")"
   ]
  },
  {
   "cell_type": "code",
   "execution_count": 15,
   "id": "53e4efec",
   "metadata": {},
   "outputs": [],
   "source": [
    "template3 = \"Brainstorm as the employee's leader and with the help of the human resource representative to create a personalized plan to help address and fix these weaknesses:\\n{weaknesses}\"\n",
    "prompt3 = ChatPromptTemplate.from_template(template3)\n",
    "chain_3 = LLMChain(llm=llm,\n",
    "                     prompt=prompt3,\n",
    "                     output_key=\"final_plan\")"
   ]
  },
  {
   "cell_type": "code",
   "execution_count": 16,
   "id": "5a4c25ce",
   "metadata": {},
   "outputs": [],
   "source": [
    "seq_chain = SequentialChain(chains=[chain_1,chain_2,chain_3],\n",
    "                            input_variables=['review'],\n",
    "                            output_variables=['review_summary','weaknesses','final_plan'],\n",
    "                            verbose=True)"
   ]
  },
  {
   "cell_type": "code",
   "execution_count": 17,
   "id": "a7b6dfe5",
   "metadata": {},
   "outputs": [],
   "source": [
    "employee_review = '''\n",
    "Employee Information:\n",
    "Name: Joe Schmo\n",
    "Position: Data Engineer\n",
    "Date of Review: July 14, 2023\n",
    "\n",
    "Strengths:\n",
    "Joe is a highly skilled data engineer with a deep understanding of python, algorithms, and software development best practices. His technical expertise shines through in his ability to efficiently solve complex problems and deliver high-quality code.\n",
    "\n",
    "One of Joe's greatest strengths is his collaborative nature. He actively engages with cross-functional teams, contributing valuable insights and seeking input from others. His open-mindedness and willingness to learn from colleagues make him a true team player.\n",
    "\n",
    "Joe consistently demonstrates initiative and self-motivation. He takes the lead in seeking out new projects and challenges, and his proactive attitude has led to significant improvements in existing processes and systems. His dedication to self-improvement and growth is commendable.\n",
    "\n",
    "Another notable strength is Joe's adaptability. He has shown great flexibility in handling changing project requirements and learning new technologies. This adaptability allows him to seamlessly transition between different projects and tasks, making him a valuable asset to the team.\n",
    "\n",
    "Joe's problem-solving skills are exceptional. He approaches issues with a logical mindset and consistently finds effective solutions, often thinking outside the box. His ability to break down complex problems into manageable parts is key to his success in resolving issues efficiently.\n",
    "\n",
    "Weaknesses:\n",
    "While Joe possesses numerous strengths, there are a few areas where he could benefit from improvement. One such area is time management. Occasionally, Joe struggles with effectively managing his time, resulting in missed deadlines or the need for additional support to complete tasks on time. Developing better prioritization and time management techniques would greatly enhance his efficiency.\n",
    "\n",
    "Another area for improvement is Joe's written communication skills. While he communicates well verbally, there have been instances where his written documentation lacked clarity, leading to confusion among team members. Focusing on enhancing his written communication abilities will help him effectively convey ideas and instructions. Current options like Grammarly, ChatGPT may be tools to help improve this.\n",
    "\n",
    "Additionally, Joe tends to take on too many responsibilities and hesitates to delegate tasks to others. This can result in an excessive workload and potential burnout. Encouraging him to delegate tasks appropriately will not only alleviate his own workload but also foster a more balanced and productive team environment.\n",
    "'''"
   ]
  },
  {
   "cell_type": "code",
   "execution_count": 18,
   "id": "10a97f11",
   "metadata": {},
   "outputs": [
    {
     "name": "stdout",
     "output_type": "stream",
     "text": [
      "\n",
      "\n",
      "\u001b[1m> Entering new SequentialChain chain...\u001b[0m\n",
      "\n",
      "\u001b[1m> Finished chain.\u001b[0m\n"
     ]
    }
   ],
   "source": [
    "results = seq_chain(employee_review)"
   ]
  },
  {
   "cell_type": "code",
   "execution_count": 19,
   "id": "f4f59d9a",
   "metadata": {},
   "outputs": [
    {
     "name": "stdout",
     "output_type": "stream",
     "text": [
      "Key employee weaknesses identified in this review summary are:\n",
      "\n",
      "1. Time management: Joe needs improvement in managing his time effectively. This weakness suggests that he may struggle with prioritizing tasks and meeting deadlines.\n",
      "\n",
      "2. Written communication skills: Joe could work on improving his written communication skills. This weakness indicates that he may have difficulty clearly and effectively conveying information through written mediums.\n",
      "\n",
      "3. Delegation: Joe needs to enhance his ability to delegate tasks. This weakness suggests that he may have difficulty assigning and entrusting tasks to others, which can impact his own efficiency and the overall productivity of the team.\n"
     ]
    }
   ],
   "source": [
    "print(results['weaknesses'])"
   ]
  },
  {
   "cell_type": "code",
   "execution_count": 20,
   "id": "9d15070d",
   "metadata": {},
   "outputs": [
    {
     "name": "stdout",
     "output_type": "stream",
     "text": [
      "To address and fix these weaknesses, we can create a personalized plan for Joe that includes the following steps:\n",
      "\n",
      "1. Time management:\n",
      "- Provide training or resources on time management techniques and tools.\n",
      "- Set clear expectations and deadlines for tasks.\n",
      "- Encourage Joe to create a prioritized to-do list each day.\n",
      "- Assign a mentor or coach who can provide guidance on effective time management.\n",
      "\n",
      "2. Written communication skills:\n",
      "- Offer writing workshops or courses to help improve Joe's written communication skills.\n",
      "- Provide examples and templates for various types of written communication (e.g., emails, reports, memos).\n",
      "- Assign Joe to work on writing projects with frequent feedback and guidance.\n",
      "\n",
      "3. Delegation:\n",
      "- Offer training or workshops on delegating tasks effectively.\n",
      "- Assign Joe to lead a small project where he can practice delegating tasks to others.\n",
      "- Provide support and guidance to help Joe identify which tasks can be delegated and how to effectively communicate expectations to the team.\n",
      "\n",
      "In addition to these steps, we can also provide ongoing support and feedback to help Joe improve in these areas. Regular check-ins and performance evaluations can be used to track progress and identify any additional areas for improvement. It's important to create a positive and supportive environment where Joe feels comfortable seeking help and learning from mistakes.\n"
     ]
    }
   ],
   "source": [
    "print(results['final_plan'])"
   ]
  },
  {
   "cell_type": "code",
   "execution_count": null,
   "id": "979f84bc",
   "metadata": {},
   "outputs": [],
   "source": []
  }
 ],
 "metadata": {
  "kernelspec": {
   "display_name": "langchain",
   "language": "python",
   "name": "langchain"
  },
  "language_info": {
   "codemirror_mode": {
    "name": "ipython",
    "version": 3
   },
   "file_extension": ".py",
   "mimetype": "text/x-python",
   "name": "python",
   "nbconvert_exporter": "python",
   "pygments_lexer": "ipython3",
   "version": "3.10.9"
  }
 },
 "nbformat": 4,
 "nbformat_minor": 5
}
