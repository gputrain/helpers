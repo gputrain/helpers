{
 "cells": [
  {
   "cell_type": "markdown",
   "id": "c446fc2f",
   "metadata": {},
   "source": [
    "# Ways to load a PDF document\n",
    "\n",
    "https://python.langchain.com/docs/modules/data_connection/document_loaders/pdf\n",
    "\n",
    "\n",
    "### Using PyPDF\n",
    "\n",
    "PyPDF is a popular library used to work with PDF files in Python. It can be used to extract text, metadata, and other information from PDF documents. Here's how Langchain utilizes PyPDF:\n",
    "\n",
    "- **Loading PDFs**: PyPDF is used to load PDF documents into an array of documents, where each document contains the page content and metadata with the page number.\n",
    "- **Installation**: PyPDF can be installed using `pip install pypdf`.\n",
    "- **Usage**: PyPDFLoader is used to load and split the PDF into pages, and the content can be accessed as shown in the code snippet on the webpage.\n",
    "- **Advantage**: An advantage of using PyPDF is that documents can be retrieved with page numbers, allowing for easy navigation and reference.\n",
    "\n",
    "### Using Unstructured\n",
    "\n",
    "Unstructured is another method mentioned on the webpage for loading PDF documents. Here's how it works:\n",
    "\n",
    "- **Loading PDFs**: UnstructuredPDFLoader is used to load PDF documents.\n",
    "- **Elements Handling**: Under the hood, Unstructured creates different \"elements\" for different chunks of text. By default, these are combined together, but separation can be maintained by specifying `mode=\"elements\"`.\n",
    "- **Usage**: UnstructuredPDFLoader is used to load the PDF, and the content can be accessed similarly to PyPDF.\n",
    "\n",
    "### When to Use PyPDF vs. Unstructured\n",
    "\n",
    "- **PyPDF**:\n",
    "  - **When Page Numbers are Important**: If you need to keep track of page numbers and want to work with individual pages, PyPDF is a suitable choice.\n",
    "  - **General Text Extraction**: PyPDF is widely used for general text extraction from PDF documents and has a well-established community.\n",
    "\n",
    "- **Unstructured**:\n",
    "  - **Handling Different Text Elements**: If you need to work with different chunks of text and want to retain the separation between different elements, Unstructured might be a better option.\n",
    "  - **Customized Text Processing**: Unstructured allows for more customized handling of text elements, making it suitable for specific use cases where text needs to be processed in a particular way.\n",
    "\n",
    "### Selection\n",
    "\n",
    "The choice between PyPDF and Unstructured depends on the specific requirements of your task. If you need general text extraction with page numbers, PyPDF is a solid choice. If you require more customized handling of text elements, Unstructured might be more suitable. Both methods are supported by Langchain, allowing for flexibility in handling PDF documents."
   ]
  },
  {
   "cell_type": "markdown",
   "id": "d5cd6300",
   "metadata": {},
   "source": [
    "# 1. PyPDF approach"
   ]
  },
  {
   "cell_type": "code",
   "execution_count": 1,
   "id": "73378eb9",
   "metadata": {},
   "outputs": [
    {
     "data": {
      "text/plain": [
       "True"
      ]
     },
     "execution_count": 1,
     "metadata": {},
     "output_type": "execute_result"
    }
   ],
   "source": [
    "from dotenv import load_dotenv,find_dotenv\n",
    "load_dotenv(find_dotenv())"
   ]
  },
  {
   "cell_type": "code",
   "execution_count": 2,
   "id": "1360822b",
   "metadata": {},
   "outputs": [],
   "source": [
    "from langchain.document_loaders import PyPDFLoader"
   ]
  },
  {
   "cell_type": "code",
   "execution_count": 3,
   "id": "2b5546b9",
   "metadata": {},
   "outputs": [],
   "source": [
    "from langchain.prompts import (\n",
    "    ChatPromptTemplate,\n",
    "    SystemMessagePromptTemplate,\n",
    "    HumanMessagePromptTemplate,\n",
    ")\n",
    "from langchain.chat_models import ChatOpenAI"
   ]
  },
  {
   "cell_type": "code",
   "execution_count": null,
   "id": "c8fb3739",
   "metadata": {},
   "outputs": [],
   "source": [
    "loader = PyPDFLoader('pdf/Causal_Inference_in_Python.pdf')"
   ]
  }
 ],
 "metadata": {
  "kernelspec": {
   "display_name": "langchain",
   "language": "python",
   "name": "langchain"
  },
  "language_info": {
   "codemirror_mode": {
    "name": "ipython",
    "version": 3
   },
   "file_extension": ".py",
   "mimetype": "text/x-python",
   "name": "python",
   "nbconvert_exporter": "python",
   "pygments_lexer": "ipython3",
   "version": "3.10.9"
  }
 },
 "nbformat": 4,
 "nbformat_minor": 5
}
