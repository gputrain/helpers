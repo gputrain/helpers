{
 "cells": [
  {
   "cell_type": "markdown",
   "id": "6afea162",
   "metadata": {},
   "source": [
    "##### Travel Agent providing suggestions with ChatGPT 3.5\n",
    "\n",
    "- Using a system template and human template collect users interest and budget\n",
    "- Provide Travel ideas to the user based on interest and budget"
   ]
  },
  {
   "cell_type": "code",
   "execution_count": 1,
   "id": "996c0cc0",
   "metadata": {},
   "outputs": [
    {
     "data": {
      "text/plain": [
       "True"
      ]
     },
     "execution_count": 1,
     "metadata": {},
     "output_type": "execute_result"
    }
   ],
   "source": [
    "#Load my environment variables\n",
    "\n",
    "from dotenv import load_dotenv,find_dotenv\n",
    "load_dotenv(find_dotenv())"
   ]
  },
  {
   "cell_type": "code",
   "execution_count": 3,
   "id": "fb27b0f4",
   "metadata": {},
   "outputs": [
    {
     "name": "stdout",
     "output_type": "stream",
     "text": [
      "0.0.267\n"
     ]
    }
   ],
   "source": [
    "from langchain.prompts import (\n",
    "    ChatPromptTemplate,\n",
    "    PromptTemplate,\n",
    "    SystemMessagePromptTemplate,\n",
    "    AIMessagePromptTemplate,\n",
    "    HumanMessagePromptTemplate,\n",
    ")\n",
    "from langchain.schema import (\n",
    "    AIMessage,\n",
    "    HumanMessage,\n",
    "    SystemMessage\n",
    ")\n",
    "from langchain.chat_models import ChatOpenAI\n",
    "import langchain\n",
    "print (langchain.__version__)"
   ]
  },
  {
   "cell_type": "code",
   "execution_count": 4,
   "id": "f5c946b5",
   "metadata": {},
   "outputs": [],
   "source": [
    "chat = ChatOpenAI()  #Initiate Chatgpt model"
   ]
  },
  {
   "cell_type": "code",
   "execution_count": 5,
   "id": "b4e6adae-ddfa-403f-afbc-eac1ff964c54",
   "metadata": {},
   "outputs": [],
   "source": [
    "def travel_idea(interest,budget):\n",
    "    \n",
    "    system_template=\"You are an experienced travel agent providing travel ideas with hobbies and knowledge of costs in US dollars for travel\"\n",
    "    system_message_prompt = SystemMessagePromptTemplate.from_template(system_template)\n",
    "\n",
    "    human_template=\"Provide travel ideas for a tourist with in {interest} and budget of US${budget}\"\n",
    "    human_message_prompt = HumanMessagePromptTemplate.from_template(human_template)\n",
    "\n",
    "    chat_prompt = ChatPromptTemplate.from_messages([system_message_prompt, human_message_prompt])\n",
    "\n",
    "    request = chat(chat_prompt.format_prompt(interest=interest, budget=budget).to_messages())    \n",
    "    \n",
    "    \n",
    "    return print(request.content)\n",
    "                                        "
   ]
  },
  {
   "cell_type": "code",
   "execution_count": 6,
   "id": "a699270e",
   "metadata": {},
   "outputs": [
    {
     "name": "stdout",
     "output_type": "stream",
     "text": [
      "For a tourist with a passion for 3D modeling and a budget of $500, here are some travel ideas that combine sightseeing and activities related to your hobby:\n",
      "\n",
      "1. San Francisco, California:\n",
      "   - Visit the Exploratorium, a hands-on science museum that often features interactive exhibits related to 3D modeling.\n",
      "   - Explore the Autodesk Gallery, a showcase of innovative designs and technologies in the heart of San Francisco.\n",
      "\n",
      "2. New York City, New York:\n",
      "   - Visit the Metropolitan Museum of Art, which houses a vast collection of sculptures and artifacts that can inspire your 3D modeling projects.\n",
      "   - Explore the Museum of Modern Art (MoMA), known for its contemporary art collection that often includes digital and interactive exhibits.\n",
      "\n",
      "3. Seattle, Washington:\n",
      "   - Visit the Museum of Pop Culture (MoPOP), which often features exhibits related to digital art and technology, including 3D modeling.\n",
      "   - Explore the Chihuly Garden and Glass, an exhibition showcasing the stunning glassworks of artist Dale Chihuly, which could inspire unique 3D designs.\n",
      "\n",
      "4. Orlando, Florida:\n",
      "   - Visit the Kennedy Space Center Visitor Complex, where you can learn about space exploration and see various models and exhibits related to spacecraft and satellites.\n",
      "   - Explore WonderWorks, an amusement park with interactive exhibits, including virtual reality experiences that could enhance your 3D modeling skills.\n",
      "\n",
      "5. Las Vegas, Nevada:\n",
      "   - Visit the Neon Museum, known for its collection of vintage neon signs. Capturing these unique designs could serve as inspiration for your 3D models.\n",
      "   - Explore the Marvel Avengers S.T.A.T.I.O.N., an interactive exhibit that allows you to explore the Marvel Universe and see detailed replicas of costumes and props.\n",
      "\n",
      "Please note that these suggestions are based on general knowledge and availability at the time of writing. Prices for attractions can vary, so it's important to check their websites for current pricing and any additional costs.\n"
     ]
    }
   ],
   "source": [
    "travel_idea('3d modeller','500')"
   ]
  },
  {
   "cell_type": "code",
   "execution_count": null,
   "id": "0e17ac3b",
   "metadata": {},
   "outputs": [],
   "source": []
  }
 ],
 "metadata": {
  "kernelspec": {
   "display_name": "langchain",
   "language": "python",
   "name": "langchain"
  },
  "language_info": {
   "codemirror_mode": {
    "name": "ipython",
    "version": 3
   },
   "file_extension": ".py",
   "mimetype": "text/x-python",
   "name": "python",
   "nbconvert_exporter": "python",
   "pygments_lexer": "ipython3",
   "version": "3.10.9"
  }
 },
 "nbformat": 4,
 "nbformat_minor": 5
}
