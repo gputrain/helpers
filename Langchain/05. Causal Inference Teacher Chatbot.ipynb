{
 "cells": [
  {
   "cell_type": "code",
   "execution_count": 1,
   "id": "1eec6342",
   "metadata": {},
   "outputs": [
    {
     "data": {
      "text/plain": [
       "True"
      ]
     },
     "execution_count": 1,
     "metadata": {},
     "output_type": "execute_result"
    }
   ],
   "source": [
    "from dotenv import load_dotenv,find_dotenv\n",
    "load_dotenv(find_dotenv())"
   ]
  },
  {
   "cell_type": "markdown",
   "id": "3843143a",
   "metadata": {},
   "source": [
    "##### A. Load two vector stores data"
   ]
  },
  {
   "cell_type": "code",
   "execution_count": 2,
   "id": "6ac865ec",
   "metadata": {},
   "outputs": [],
   "source": [
    "#Get embeddings and Chroma to load the vector store\n",
    "from langchain.embeddings import OpenAIEmbeddings\n",
    "from langchain.vectorstores import Chroma"
   ]
  },
  {
   "cell_type": "code",
   "execution_count": 3,
   "id": "a551f81c",
   "metadata": {},
   "outputs": [],
   "source": [
    "embeddings_model = OpenAIEmbeddings()"
   ]
  },
  {
   "cell_type": "code",
   "execution_count": 4,
   "id": "994348bb",
   "metadata": {},
   "outputs": [],
   "source": [
    "vectorstore1 = Chroma(persist_directory='data/chroma/1Causal_Inference',embedding_function=embeddings_model)\n",
    "vectorstore2 = Chroma(persist_directory='data/chroma/2Causal_Inference',embedding_function=embeddings_model)"
   ]
  },
  {
   "cell_type": "markdown",
   "id": "b5916199",
   "metadata": {},
   "source": [
    "##### B. Setup LLM"
   ]
  },
  {
   "cell_type": "code",
   "execution_count": 5,
   "id": "e1d49e77",
   "metadata": {},
   "outputs": [],
   "source": [
    "from langchain.chat_models import ChatOpenAI"
   ]
  },
  {
   "cell_type": "code",
   "execution_count": 6,
   "id": "e1d9ef47",
   "metadata": {},
   "outputs": [],
   "source": [
    "llm = ChatOpenAI(temperature=0)"
   ]
  },
  {
   "cell_type": "markdown",
   "id": "ebb3bab9",
   "metadata": {},
   "source": [
    "##### C. Extract relevant docs from a search query for a string many ways"
   ]
  },
  {
   "cell_type": "code",
   "execution_count": 7,
   "id": "ba865ecf",
   "metadata": {},
   "outputs": [],
   "source": [
    "from langchain.retrievers import ContextualCompressionRetriever\n",
    "from langchain.retrievers.document_compressors import LLMChainExtractor"
   ]
  },
  {
   "cell_type": "code",
   "execution_count": 8,
   "id": "1df79bac",
   "metadata": {},
   "outputs": [],
   "source": [
    "question = \"What are the benefits of OLS regression with regards to casuality analysis?\""
   ]
  },
  {
   "cell_type": "markdown",
   "id": "35774b0a",
   "metadata": {},
   "source": [
    "###### C1. Contextual Compression Retriever"
   ]
  },
  {
   "cell_type": "code",
   "execution_count": 9,
   "id": "6a15e9e2",
   "metadata": {},
   "outputs": [],
   "source": [
    "compressor = LLMChainExtractor.from_llm(llm)"
   ]
  },
  {
   "cell_type": "code",
   "execution_count": 10,
   "id": "d5e51cfa",
   "metadata": {},
   "outputs": [],
   "source": [
    "mydocs1 = ContextualCompressionRetriever(base_compressor=compressor, base_retriever=vectorstore1.as_retriever())\n",
    "mydocs2 = ContextualCompressionRetriever(base_compressor=compressor, base_retriever=vectorstore2.as_retriever())"
   ]
  },
  {
   "cell_type": "code",
   "execution_count": 11,
   "id": "3078340c",
   "metadata": {},
   "outputs": [
    {
     "name": "stderr",
     "output_type": "stream",
     "text": [
      "C:\\Users\\art\\anaconda3\\envs\\langchain\\lib\\site-packages\\langchain\\chains\\llm.py:278: UserWarning: The predict_and_parse method is deprecated, instead pass an output parser directly to LLMChain.\n",
      "  warnings.warn(\n"
     ]
    }
   ],
   "source": [
    "#Example of compression filtering internal docs\n",
    "docs1 = mydocs1.get_relevant_documents(question)\n",
    "docs2 = mydocs2.get_relevant_documents(question)"
   ]
  },
  {
   "cell_type": "code",
   "execution_count": null,
   "id": "7696669c",
   "metadata": {},
   "outputs": [],
   "source": [
    "#print (docs1)"
   ]
  },
  {
   "cell_type": "code",
   "execution_count": null,
   "id": "55695f3d",
   "metadata": {},
   "outputs": [],
   "source": [
    "#print (docs2)"
   ]
  },
  {
   "cell_type": "markdown",
   "id": "5a7d76fb",
   "metadata": {},
   "source": [
    "###### C2. MultiQuery Retriever"
   ]
  },
  {
   "cell_type": "code",
   "execution_count": 12,
   "id": "d8f3e2f0",
   "metadata": {},
   "outputs": [],
   "source": [
    "from langchain.retrievers.multi_query import MultiQueryRetriever"
   ]
  },
  {
   "cell_type": "code",
   "execution_count": 13,
   "id": "784da26a",
   "metadata": {},
   "outputs": [],
   "source": [
    "mq1 = MultiQueryRetriever.from_llm(\n",
    "    retriever=vectorstore1.as_retriever(), llm=llm\n",
    ")\n",
    "\n",
    "mq2 = MultiQueryRetriever.from_llm(\n",
    "    retriever=vectorstore2.as_retriever(), llm=llm\n",
    ")"
   ]
  },
  {
   "cell_type": "code",
   "execution_count": 14,
   "id": "f47c15a6",
   "metadata": {},
   "outputs": [
    {
     "data": {
      "text/plain": [
       "5"
      ]
     },
     "execution_count": 14,
     "metadata": {},
     "output_type": "execute_result"
    }
   ],
   "source": [
    "doc3 = mq1.get_relevant_documents(query=question)\n",
    "len(doc3)"
   ]
  },
  {
   "cell_type": "code",
   "execution_count": 15,
   "id": "e5b3d7e9",
   "metadata": {},
   "outputs": [
    {
     "data": {
      "text/plain": [
       "6"
      ]
     },
     "execution_count": 15,
     "metadata": {},
     "output_type": "execute_result"
    }
   ],
   "source": [
    "doc4 = mq2.get_relevant_documents(query=question)\n",
    "len(doc4)"
   ]
  },
  {
   "cell_type": "code",
   "execution_count": null,
   "id": "933f3446",
   "metadata": {},
   "outputs": [],
   "source": [
    "#print (doc3)"
   ]
  },
  {
   "cell_type": "code",
   "execution_count": null,
   "id": "8997e36d",
   "metadata": {},
   "outputs": [],
   "source": [
    "#print (doc4)"
   ]
  },
  {
   "cell_type": "markdown",
   "id": "5eed350e",
   "metadata": {},
   "source": [
    "##### D. Setup Conversational Memory"
   ]
  },
  {
   "cell_type": "code",
   "execution_count": 16,
   "id": "62ccf104",
   "metadata": {},
   "outputs": [],
   "source": [
    "from langchain.memory import ConversationBufferMemory\n"
   ]
  },
  {
   "cell_type": "code",
   "execution_count": 46,
   "id": "8b37e554",
   "metadata": {},
   "outputs": [],
   "source": [
    "memory = ConversationBufferMemory(memory_key=\"chat_history\")"
   ]
  },
  {
   "cell_type": "code",
   "execution_count": 47,
   "id": "e5fd7e72",
   "metadata": {},
   "outputs": [
    {
     "data": {
      "text/plain": [
       "''"
      ]
     },
     "execution_count": 47,
     "metadata": {},
     "output_type": "execute_result"
    }
   ],
   "source": [
    "memory.buffer"
   ]
  },
  {
   "cell_type": "markdown",
   "id": "8ef64bd9",
   "metadata": {},
   "source": [
    "##### E. Simple Chain without memory"
   ]
  },
  {
   "cell_type": "code",
   "execution_count": 19,
   "id": "eecf5b3f",
   "metadata": {},
   "outputs": [],
   "source": [
    "from langchain import LLMChain\n",
    "from langchain.prompts.prompt import PromptTemplate"
   ]
  },
  {
   "cell_type": "code",
   "execution_count": 35,
   "id": "1cfec748",
   "metadata": {},
   "outputs": [],
   "source": [
    "prompt_template = \"\"\"\n",
    "You are a specialized teacher chatbot with expertise in causal inference using Python. \n",
    "Your primary role is to guide students through interactive lessons, hands-on exercises, and provide thoughtful insights. \n",
    "You will help students understand the underlying principles, methodologies, and practical applications of causal inference.\n",
    "\n",
    "Your responses should be clear, concise, and tailored to the students' level of understanding, encouraging \n",
    "them to think critically and engage with the material. \n",
    "Encourage questions and provide examples where necessary to illustrate complex ideas.\n",
    "\n",
    "When explaining concepts, refer to the internal documents by citing page numbers or section headers as provided from the \n",
    "vector store. Do not reference any external links or sources outside the provided internal documents. \n",
    "Ensure you added page numbers at the end of your response without exception? Citing content is a must.\n",
    "\n",
    "Answer this {question}\n",
    "\"\"\""
   ]
  },
  {
   "cell_type": "code",
   "execution_count": 36,
   "id": "e5de12d7",
   "metadata": {},
   "outputs": [],
   "source": [
    "llm_chain = LLMChain(llm=llm, prompt=PromptTemplate.from_template(prompt_template))"
   ]
  },
  {
   "cell_type": "code",
   "execution_count": 37,
   "id": "e3272fb5",
   "metadata": {},
   "outputs": [],
   "source": [
    "result = llm_chain.run(input_documents=docs1,question=question)"
   ]
  },
  {
   "cell_type": "code",
   "execution_count": 38,
   "id": "2dac6dcc",
   "metadata": {},
   "outputs": [
    {
     "name": "stdout",
     "output_type": "stream",
     "text": [
      "OLS regression, or Ordinary Least Squares regression, has several benefits when it comes to causal analysis:\n",
      "\n",
      "1. **Interpretability**: OLS regression provides easily interpretable coefficients that represent the causal effect of each independent variable on the dependent variable. These coefficients can be used to understand the direction and magnitude of the causal relationship.\n",
      "\n",
      "2. **Control for confounding variables**: OLS regression allows for the inclusion of multiple independent variables in the model, which can help control for potential confounding variables. By including these variables, we can better isolate the causal effect of the variable of interest on the dependent variable.\n",
      "\n",
      "3. **Quantification of causal effects**: OLS regression provides estimates of the causal effects of the independent variables on the dependent variable. These estimates can be used to quantify the magnitude of the causal relationship and make comparisons between different variables.\n",
      "\n",
      "4. **Hypothesis testing**: OLS regression allows for hypothesis testing to determine the statistical significance of the estimated causal effects. This helps us assess whether the observed relationship between the variables is likely to be due to chance or if it is a true causal relationship.\n",
      "\n",
      "5. **Model diagnostics**: OLS regression provides various diagnostic tools to assess the quality of the model and identify potential issues such as multicollinearity or heteroscedasticity. These diagnostics help ensure the validity of the causal analysis.\n",
      "\n",
      "It is important to note that while OLS regression has these benefits, it also has certain assumptions that need to be met for valid causal inference. These assumptions include linearity, independence of errors, homoscedasticity, and absence of multicollinearity. Violations of these assumptions can affect the validity of the causal analysis. (Page 45-47)\n"
     ]
    }
   ],
   "source": [
    "print(result)"
   ]
  },
  {
   "cell_type": "code",
   "execution_count": 85,
   "id": "3b6021ef",
   "metadata": {},
   "outputs": [],
   "source": [
    "result = llm_chain.run(input_documents=docs2,question='How do I determine the Confounding variables in my OLS?')"
   ]
  },
  {
   "cell_type": "code",
   "execution_count": 86,
   "id": "8509d52b",
   "metadata": {},
   "outputs": [
    {
     "name": "stdout",
     "output_type": "stream",
     "text": [
      "To determine the confounding variables in your Ordinary Least Squares (OLS) regression model, you need to consider the factors that may affect both the independent variable(s) and the dependent variable, leading to a potential bias in the estimated relationship.\n",
      "\n",
      "One way to identify potential confounding variables is through a careful review of the literature and subject matter knowledge. Look for variables that are known to be associated with both the independent and dependent variables. These variables can act as confounders and should be included in your regression model to control for their influence.\n",
      "\n",
      "Another approach is to use statistical techniques such as the \"change-in-estimate\" method. This involves running the regression model with and without a potential confounding variable and comparing the coefficients of the independent variables of interest. If the inclusion of the potential confounder causes a substantial change in the coefficients, it suggests that the variable is a confounding factor and should be included in the model.\n",
      "\n",
      "Additionally, you can use causal diagrams, such as directed acyclic graphs (DAGs), to visually represent the relationships between variables and identify potential confounders. DAGs help to clarify the causal structure and guide the selection of variables to include in the model.\n",
      "\n",
      "Remember, identifying and including confounding variables is crucial for obtaining unbiased estimates of the causal effects in your OLS regression. For a more detailed explanation and examples, please refer to page 45 of the internal document \"Causal Inference in Python.\"\n"
     ]
    }
   ],
   "source": [
    "print(result)"
   ]
  },
  {
   "cell_type": "code",
   "execution_count": 83,
   "id": "c5cddc72",
   "metadata": {},
   "outputs": [],
   "source": [
    "result = llm_chain.run(input_documents=doc3,question='How do I determine the Confounding variables in my OLS?')"
   ]
  },
  {
   "cell_type": "code",
   "execution_count": null,
   "id": "427675d4",
   "metadata": {},
   "outputs": [
    {
     "name": "stdout",
     "output_type": "stream",
     "text": [
      "\n",
      " Enter Your Query:what is the backdoor criteria?\n",
      "The backdoor criteria is a set of conditions that need to be satisfied in order to identify a valid set of covariates for controlling confounding variables in causal inference. According to Pearl's book \"Causality: Models, Reasoning, and Inference\" (page 81), the backdoor criteria states that a set of variables Z satisfies the backdoor criterion relative to a causal effect of interest if it blocks all backdoor paths between the treatment variable and the outcome variable. A backdoor path is a path that starts from the treatment variable, intersects with the arrows pointing into the treatment variable, and ends at the outcome variable. By controlling for the variables in Z, we can eliminate the confounding bias and estimate the causal effect accurately.\n",
      "\n",
      " Enter Your Query:which page number is that from?\n",
      "I apologize, but as a language model AI, I do not have access to specific page numbers or internal documents. However, I can provide information and guidance on causal inference using Python. If you have any specific questions or topics you would like to discuss, please let me know and I'll be happy to assist you.\n",
      "\n",
      " Enter Your Query:what is the Pearl's book all about?\n",
      "Pearl's book, \"The Book of Why: The New Science of Cause and Effect,\" is a comprehensive guide to understanding causal inference. It introduces the reader to the fundamental principles, methodologies, and practical applications of causal reasoning using a combination of theoretical explanations and real-world examples.\n",
      "\n",
      "The book explores the limitations of traditional statistical methods in establishing causal relationships and introduces the concept of causal graphs as a powerful tool for causal inference. It delves into the difference between correlation and causation, emphasizing the importance of identifying and understanding causal mechanisms.\n",
      "\n",
      "Pearl's book also introduces the concept of counterfactuals and explains how they can be used to estimate causal effects. It covers various causal inference techniques, including randomized experiments, observational studies, and instrumental variables.\n",
      "\n",
      "Throughout the book, Pearl emphasizes the importance of causal reasoning in fields such as medicine, social sciences, economics, and policy-making. He provides insights into the potential impact of causal inference on decision-making and encourages readers to think critically about causal relationships.\n",
      "\n",
      "To learn more about Pearl's book and its contents, you can refer to page 1, which provides an overview of the book, or explore specific sections such as \"Chapter 2: The Ladder of Causation\" (page 23) and \"Chapter 4: Counterfactuals and Causal Diagrams\" (page 67).\n"
     ]
    }
   ],
   "source": [
    "while True:\n",
    "    query = input(\"\\n Enter Your Query:\")\n",
    "    print(llm_chain.run({\"question\": query, 'input_documents':doc3}))"
   ]
  },
  {
   "cell_type": "code",
   "execution_count": null,
   "id": "cdade48c",
   "metadata": {},
   "outputs": [],
   "source": []
  },
  {
   "cell_type": "code",
   "execution_count": 84,
   "id": "2dfed93e",
   "metadata": {},
   "outputs": [
    {
     "name": "stdout",
     "output_type": "stream",
     "text": [
      "To determine the confounding variables in your Ordinary Least Squares (OLS) regression model, you need to consider the factors that may affect both the independent variable(s) and the dependent variable, leading to a potential bias in the estimated relationship.\n",
      "\n",
      "One way to identify potential confounding variables is through a careful review of the literature and subject matter knowledge. Look for variables that are known to be associated with both the independent and dependent variables. These variables can act as confounders and should be included in your regression model to control for their influence.\n",
      "\n",
      "Another approach is to use statistical techniques such as the \"change-in-estimate\" method or the \"backdoor criterion\" to identify confounding variables. The change-in-estimate method involves adding or removing variables from the model and observing the impact on the coefficients of the independent variables of interest. If the coefficients change substantially, it suggests the presence of confounding.\n",
      "\n",
      "The backdoor criterion, as described on page 87 of the internal document, \"Causal Inference: The Mixtape,\" helps identify variables that need to be controlled for to estimate the causal effect of interest. It involves identifying variables that are ancestors of the treatment variable and descendants of the outcome variable, forming a \"backdoor path.\" Controlling for these variables helps eliminate confounding bias.\n",
      "\n",
      "Remember, the goal is to include all relevant confounding variables in your model to obtain unbiased estimates of the causal relationship. However, be cautious not to include variables that are mediators or colliders, as they can introduce bias. For a more detailed understanding of confounding variables and their identification, refer to page 87-89 of the \"Causal Inference: The Mixtape\" document.\n"
     ]
    }
   ],
   "source": [
    "print(result)"
   ]
  },
  {
   "cell_type": "code",
   "execution_count": 43,
   "id": "9d2d600d",
   "metadata": {},
   "outputs": [],
   "source": [
    "result = llm_chain.run(input_documents=doc4,question=question)"
   ]
  },
  {
   "cell_type": "code",
   "execution_count": 44,
   "id": "70169c3c",
   "metadata": {},
   "outputs": [
    {
     "name": "stdout",
     "output_type": "stream",
     "text": [
      "OLS regression, or Ordinary Least Squares regression, has several benefits when it comes to causal analysis:\n",
      "\n",
      "1. **Interpretability**: OLS regression provides easily interpretable coefficients that represent the causal effect of each independent variable on the dependent variable. These coefficients can be used to understand the direction and magnitude of the causal relationship.\n",
      "\n",
      "2. **Control for confounding variables**: OLS regression allows for the inclusion of multiple independent variables in the model, which can help control for potential confounding variables. By including these variables, we can better isolate the causal effect of the variable of interest on the dependent variable.\n",
      "\n",
      "3. **Quantification of causal effects**: OLS regression provides estimates of the causal effects of the independent variables on the dependent variable. These estimates can be used to quantify the magnitude of the causal relationship and make comparisons between different variables.\n",
      "\n",
      "4. **Hypothesis testing**: OLS regression allows for hypothesis testing to determine the statistical significance of the estimated causal effects. This helps us assess whether the observed relationship between the variables is likely to be due to chance or if it is a true causal relationship.\n",
      "\n",
      "5. **Model diagnostics**: OLS regression provides various diagnostic tools to assess the quality of the model and identify potential issues such as multicollinearity or heteroscedasticity. These diagnostics help ensure the validity of the causal analysis.\n",
      "\n",
      "It is important to note that while OLS regression has these benefits, it also has certain assumptions that need to be met for valid causal inference. These assumptions include linearity, independence of errors, homoscedasticity, and absence of multicollinearity. Violations of these assumptions can affect the validity of the causal analysis. (Page 45-47)\n"
     ]
    }
   ],
   "source": [
    "print(result)"
   ]
  },
  {
   "cell_type": "markdown",
   "id": "1c265a3b",
   "metadata": {},
   "source": [
    "##### F. Conversational Agent"
   ]
  },
  {
   "cell_type": "code",
   "execution_count": 45,
   "id": "2aee9636",
   "metadata": {},
   "outputs": [],
   "source": [
    "from langchain.agents import Tool\n",
    "from langchain.agents import AgentType\n",
    "from langchain.agents import initialize_agent\n",
    "from langchain.agents import load_tools"
   ]
  },
  {
   "cell_type": "code",
   "execution_count": 56,
   "id": "4806462b",
   "metadata": {},
   "outputs": [
    {
     "data": {
      "text/plain": [
       "list"
      ]
     },
     "execution_count": 56,
     "metadata": {},
     "output_type": "execute_result"
    }
   ],
   "source": []
  },
  {
   "cell_type": "code",
   "execution_count": 74,
   "id": "a3580677",
   "metadata": {},
   "outputs": [
    {
     "ename": "ValueError",
     "evalue": "Missing some input keys: {'question'}",
     "output_type": "error",
     "traceback": [
      "\u001b[1;31m---------------------------------------------------------------------------\u001b[0m",
      "\u001b[1;31mValueError\u001b[0m                                Traceback (most recent call last)",
      "Cell \u001b[1;32mIn[74], line 5\u001b[0m\n\u001b[0;32m      1\u001b[0m \u001b[38;5;66;03m#tools = load_tools([\"llm-math\"], llm=llm)\u001b[39;00m\n\u001b[0;32m      2\u001b[0m tools \u001b[38;5;241m=\u001b[39m [\n\u001b[0;32m      3\u001b[0m     Tool(\n\u001b[0;32m      4\u001b[0m         name\u001b[38;5;241m=\u001b[39m\u001b[38;5;124m\"\u001b[39m\u001b[38;5;124mSpecialized teacher chatbot\u001b[39m\u001b[38;5;124m\"\u001b[39m,\n\u001b[1;32m----> 5\u001b[0m         func\u001b[38;5;241m=\u001b[39m\u001b[43mllm_chain\u001b[49m\u001b[38;5;241;43m.\u001b[39;49m\u001b[43mrun\u001b[49m\u001b[43m(\u001b[49m\u001b[43minput_documents\u001b[49m\u001b[38;5;241;43m=\u001b[39;49m\u001b[43mdoc4\u001b[49m\u001b[43m)\u001b[49m,\n\u001b[0;32m      6\u001b[0m         description\u001b[38;5;241m=\u001b[39m\u001b[38;5;124m\"\u001b[39m\u001b[38;5;124museful for when you have a specific question around causal analysis, stats, machine learning, etc\u001b[39m\u001b[38;5;124m\"\u001b[39m,\n\u001b[0;32m      7\u001b[0m         return_direct\u001b[38;5;241m=\u001b[39m\u001b[38;5;28;01mTrue\u001b[39;00m,\n\u001b[0;32m      8\u001b[0m     )\n\u001b[0;32m      9\u001b[0m     \n\u001b[0;32m     10\u001b[0m      ]\n",
      "File \u001b[1;32m~\\anaconda3\\envs\\langchain\\lib\\site-packages\\langchain\\chains\\base.py:480\u001b[0m, in \u001b[0;36mChain.run\u001b[1;34m(self, callbacks, tags, metadata, *args, **kwargs)\u001b[0m\n\u001b[0;32m    475\u001b[0m     \u001b[38;5;28;01mreturn\u001b[39;00m \u001b[38;5;28mself\u001b[39m(args[\u001b[38;5;241m0\u001b[39m], callbacks\u001b[38;5;241m=\u001b[39mcallbacks, tags\u001b[38;5;241m=\u001b[39mtags, metadata\u001b[38;5;241m=\u001b[39mmetadata)[\n\u001b[0;32m    476\u001b[0m         _output_key\n\u001b[0;32m    477\u001b[0m     ]\n\u001b[0;32m    479\u001b[0m \u001b[38;5;28;01mif\u001b[39;00m kwargs \u001b[38;5;129;01mand\u001b[39;00m \u001b[38;5;129;01mnot\u001b[39;00m args:\n\u001b[1;32m--> 480\u001b[0m     \u001b[38;5;28;01mreturn\u001b[39;00m \u001b[38;5;28;43mself\u001b[39;49m\u001b[43m(\u001b[49m\u001b[43mkwargs\u001b[49m\u001b[43m,\u001b[49m\u001b[43m \u001b[49m\u001b[43mcallbacks\u001b[49m\u001b[38;5;241;43m=\u001b[39;49m\u001b[43mcallbacks\u001b[49m\u001b[43m,\u001b[49m\u001b[43m \u001b[49m\u001b[43mtags\u001b[49m\u001b[38;5;241;43m=\u001b[39;49m\u001b[43mtags\u001b[49m\u001b[43m,\u001b[49m\u001b[43m \u001b[49m\u001b[43mmetadata\u001b[49m\u001b[38;5;241;43m=\u001b[39;49m\u001b[43mmetadata\u001b[49m\u001b[43m)\u001b[49m[\n\u001b[0;32m    481\u001b[0m         _output_key\n\u001b[0;32m    482\u001b[0m     ]\n\u001b[0;32m    484\u001b[0m \u001b[38;5;28;01mif\u001b[39;00m \u001b[38;5;129;01mnot\u001b[39;00m kwargs \u001b[38;5;129;01mand\u001b[39;00m \u001b[38;5;129;01mnot\u001b[39;00m args:\n\u001b[0;32m    485\u001b[0m     \u001b[38;5;28;01mraise\u001b[39;00m \u001b[38;5;167;01mValueError\u001b[39;00m(\n\u001b[0;32m    486\u001b[0m         \u001b[38;5;124m\"\u001b[39m\u001b[38;5;124m`run` supported with either positional arguments or keyword arguments,\u001b[39m\u001b[38;5;124m\"\u001b[39m\n\u001b[0;32m    487\u001b[0m         \u001b[38;5;124m\"\u001b[39m\u001b[38;5;124m but none were provided.\u001b[39m\u001b[38;5;124m\"\u001b[39m\n\u001b[0;32m    488\u001b[0m     )\n",
      "File \u001b[1;32m~\\anaconda3\\envs\\langchain\\lib\\site-packages\\langchain\\chains\\base.py:259\u001b[0m, in \u001b[0;36mChain.__call__\u001b[1;34m(self, inputs, return_only_outputs, callbacks, tags, metadata, include_run_info)\u001b[0m\n\u001b[0;32m    224\u001b[0m \u001b[38;5;28;01mdef\u001b[39;00m \u001b[38;5;21m__call__\u001b[39m(\n\u001b[0;32m    225\u001b[0m     \u001b[38;5;28mself\u001b[39m,\n\u001b[0;32m    226\u001b[0m     inputs: Union[Dict[\u001b[38;5;28mstr\u001b[39m, Any], Any],\n\u001b[1;32m   (...)\u001b[0m\n\u001b[0;32m    232\u001b[0m     include_run_info: \u001b[38;5;28mbool\u001b[39m \u001b[38;5;241m=\u001b[39m \u001b[38;5;28;01mFalse\u001b[39;00m,\n\u001b[0;32m    233\u001b[0m ) \u001b[38;5;241m-\u001b[39m\u001b[38;5;241m>\u001b[39m Dict[\u001b[38;5;28mstr\u001b[39m, Any]:\n\u001b[0;32m    234\u001b[0m \u001b[38;5;250m    \u001b[39m\u001b[38;5;124;03m\"\"\"Execute the chain.\u001b[39;00m\n\u001b[0;32m    235\u001b[0m \n\u001b[0;32m    236\u001b[0m \u001b[38;5;124;03m    Args:\u001b[39;00m\n\u001b[1;32m   (...)\u001b[0m\n\u001b[0;32m    257\u001b[0m \u001b[38;5;124;03m            `Chain.output_keys`.\u001b[39;00m\n\u001b[0;32m    258\u001b[0m \u001b[38;5;124;03m    \"\"\"\u001b[39;00m\n\u001b[1;32m--> 259\u001b[0m     inputs \u001b[38;5;241m=\u001b[39m \u001b[38;5;28;43mself\u001b[39;49m\u001b[38;5;241;43m.\u001b[39;49m\u001b[43mprep_inputs\u001b[49m\u001b[43m(\u001b[49m\u001b[43minputs\u001b[49m\u001b[43m)\u001b[49m\n\u001b[0;32m    260\u001b[0m     callback_manager \u001b[38;5;241m=\u001b[39m CallbackManager\u001b[38;5;241m.\u001b[39mconfigure(\n\u001b[0;32m    261\u001b[0m         callbacks,\n\u001b[0;32m    262\u001b[0m         \u001b[38;5;28mself\u001b[39m\u001b[38;5;241m.\u001b[39mcallbacks,\n\u001b[1;32m   (...)\u001b[0m\n\u001b[0;32m    267\u001b[0m         \u001b[38;5;28mself\u001b[39m\u001b[38;5;241m.\u001b[39mmetadata,\n\u001b[0;32m    268\u001b[0m     )\n\u001b[0;32m    269\u001b[0m     new_arg_supported \u001b[38;5;241m=\u001b[39m inspect\u001b[38;5;241m.\u001b[39msignature(\u001b[38;5;28mself\u001b[39m\u001b[38;5;241m.\u001b[39m_call)\u001b[38;5;241m.\u001b[39mparameters\u001b[38;5;241m.\u001b[39mget(\u001b[38;5;124m\"\u001b[39m\u001b[38;5;124mrun_manager\u001b[39m\u001b[38;5;124m\"\u001b[39m)\n",
      "File \u001b[1;32m~\\anaconda3\\envs\\langchain\\lib\\site-packages\\langchain\\chains\\base.py:413\u001b[0m, in \u001b[0;36mChain.prep_inputs\u001b[1;34m(self, inputs)\u001b[0m\n\u001b[0;32m    411\u001b[0m     external_context \u001b[38;5;241m=\u001b[39m \u001b[38;5;28mself\u001b[39m\u001b[38;5;241m.\u001b[39mmemory\u001b[38;5;241m.\u001b[39mload_memory_variables(inputs)\n\u001b[0;32m    412\u001b[0m     inputs \u001b[38;5;241m=\u001b[39m \u001b[38;5;28mdict\u001b[39m(inputs, \u001b[38;5;241m*\u001b[39m\u001b[38;5;241m*\u001b[39mexternal_context)\n\u001b[1;32m--> 413\u001b[0m \u001b[38;5;28;43mself\u001b[39;49m\u001b[38;5;241;43m.\u001b[39;49m\u001b[43m_validate_inputs\u001b[49m\u001b[43m(\u001b[49m\u001b[43minputs\u001b[49m\u001b[43m)\u001b[49m\n\u001b[0;32m    414\u001b[0m \u001b[38;5;28;01mreturn\u001b[39;00m inputs\n",
      "File \u001b[1;32m~\\anaconda3\\envs\\langchain\\lib\\site-packages\\langchain\\chains\\base.py:171\u001b[0m, in \u001b[0;36mChain._validate_inputs\u001b[1;34m(self, inputs)\u001b[0m\n\u001b[0;32m    169\u001b[0m missing_keys \u001b[38;5;241m=\u001b[39m \u001b[38;5;28mset\u001b[39m(\u001b[38;5;28mself\u001b[39m\u001b[38;5;241m.\u001b[39minput_keys)\u001b[38;5;241m.\u001b[39mdifference(inputs)\n\u001b[0;32m    170\u001b[0m \u001b[38;5;28;01mif\u001b[39;00m missing_keys:\n\u001b[1;32m--> 171\u001b[0m     \u001b[38;5;28;01mraise\u001b[39;00m \u001b[38;5;167;01mValueError\u001b[39;00m(\u001b[38;5;124mf\u001b[39m\u001b[38;5;124m\"\u001b[39m\u001b[38;5;124mMissing some input keys: \u001b[39m\u001b[38;5;132;01m{\u001b[39;00mmissing_keys\u001b[38;5;132;01m}\u001b[39;00m\u001b[38;5;124m\"\u001b[39m)\n",
      "\u001b[1;31mValueError\u001b[0m: Missing some input keys: {'question'}"
     ]
    }
   ],
   "source": [
    "#tools = load_tools([\"llm-math\"], llm=llm)\n",
    "tools = [\n",
    "    Tool(\n",
    "        name=\"Specialized teacher chatbot\",\n",
    "        func=llm_chain.run(input_documents=doc4,question=question),\n",
    "        description=\"useful for when you have a specific question around causal analysis, stats, machine learning, etc\",\n",
    "        return_direct=True,\n",
    "    )\n",
    "    \n",
    "     ]\n"
   ]
  },
  {
   "cell_type": "code",
   "execution_count": null,
   "id": "6410b834",
   "metadata": {},
   "outputs": [],
   "source": [
    "agent_chain = initialize_agent(tools, \n",
    "                               llm,\n",
    "                               agent=AgentType.CONVERSATIONAL_REACT_DESCRIPTION, \n",
    "                               verbose=True, \n",
    "                               memory=memory)"
   ]
  },
  {
   "cell_type": "code",
   "execution_count": null,
   "id": "d4631d50",
   "metadata": {},
   "outputs": [],
   "source": [
    "agent_chain.run(input=\"What is a good way to learn about OLS?\",        input_documents=doc4,\n",
    "        question=question)"
   ]
  },
  {
   "cell_type": "code",
   "execution_count": null,
   "id": "a24e663e",
   "metadata": {},
   "outputs": [],
   "source": []
  }
 ],
 "metadata": {
  "kernelspec": {
   "display_name": "langchain",
   "language": "python",
   "name": "langchain"
  },
  "language_info": {
   "codemirror_mode": {
    "name": "ipython",
    "version": 3
   },
   "file_extension": ".py",
   "mimetype": "text/x-python",
   "name": "python",
   "nbconvert_exporter": "python",
   "pygments_lexer": "ipython3",
   "version": "3.10.9"
  }
 },
 "nbformat": 4,
 "nbformat_minor": 5
}
